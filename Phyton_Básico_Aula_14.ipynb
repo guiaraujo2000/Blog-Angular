{
  "nbformat": 4,
  "nbformat_minor": 0,
  "metadata": {
    "colab": {
      "provenance": [],
      "authorship_tag": "ABX9TyOJZqD/8b6qPGvHn/6YDOjI",
      "include_colab_link": true
    },
    "kernelspec": {
      "name": "python3",
      "display_name": "Python 3"
    },
    "language_info": {
      "name": "python"
    }
  },
  "cells": [
    {
      "cell_type": "markdown",
      "metadata": {
        "id": "view-in-github",
        "colab_type": "text"
      },
      "source": [
        "<a href=\"https://colab.research.google.com/github/guiaraujo2000/Blog-Angular/blob/master/Phyton_B%C3%A1sico_Aula_14.ipynb\" target=\"_parent\"><img src=\"https://colab.research.google.com/assets/colab-badge.svg\" alt=\"Open In Colab\"/></a>"
      ]
    },
    {
      "cell_type": "markdown",
      "source": [
        "Phyton Básico - Operadores"
      ],
      "metadata": {
        "id": "mj7wypImF2PP"
      }
    },
    {
      "cell_type": "code",
      "source": [
        "# soma (+) Exemplo: some 3 com 2\n",
        "soma = 3 + 2\n",
        "\n",
        "# subtração (-) Exemplo: Subtraia 2 de 3\n",
        "sub = 3 - 2\n",
        "\n",
        "# multiplicação (*) Exemplo: Multiplique 3 por 2\n",
        "mult = 3 * 2\n",
        "\n",
        "# divisão (/) Exemplo: divida 3 por 2\n",
        "div = 3 / 2\n",
        "\n",
        "# parte inteira da divisão (//) Exemplo: encontre e guarde a parte inteira da divisão de 3 por 2\n",
        "idiv = 3 // 2\n",
        "\n",
        "# resto da divisão (%) Exemplo: encontre e guarde o resto da divisão de 3 por 2\n",
        "rdiv = 3 % 2\n",
        "\n",
        "# potenciação (**) Exemplo: eleve 3 a 2\n",
        "pot = 3 ** 2\n",
        "\n",
        "print(soma)\n",
        "print(sub)\n",
        "print(mult)\n",
        "print(div)\n",
        "print(idiv)\n",
        "print(rdiv)\n",
        "print(pot)"
      ],
      "metadata": {
        "colab": {
          "base_uri": "https://localhost:8080/"
        },
        "id": "7EIcUOqOGGEX",
        "outputId": "307c6926-8519-451d-e5b9-7c9ec793fd58"
      },
      "execution_count": 1,
      "outputs": [
        {
          "output_type": "stream",
          "name": "stdout",
          "text": [
            "5\n",
            "1\n",
            "6\n",
            "1.5\n",
            "1\n",
            "1\n",
            "9\n"
          ]
        }
      ]
    },
    {
      "cell_type": "code",
      "source": [
        "# Melhorando a visualização dos prints f-string\n",
        "\n",
        "'''Quando houver necessidade de combinar no mesmo print texto e valores\n",
        "de variáveis o f-string é uma excelente alternativa'''\n",
        "\n",
        "print(f'O resultado da soma de 3 com 2 é: {soma} ')\n",
        "print(f'O resultado da subtração de 3 com 2 é: {sub} ')\n",
        "print(f'O resultado da multiplicação de 3 por 2 é: {mult} ')\n",
        "print(f'O resultado da divisão de 3 por 2 é: {div} ')\n",
        "print(f'A parte inteira da divisão de 3 por 2 é: {idiv} ')\n",
        "print(f'O resto da divisão de 3 por 2 é: {rdiv} ')\n",
        "print(f'O resultado da potenciação de 3 elevado 2 é: {pot} ')"
      ],
      "metadata": {
        "colab": {
          "base_uri": "https://localhost:8080/"
        },
        "id": "mmuyAg0SGMwe",
        "outputId": "ff50754d-57fc-4d91-bfa3-9a119393990c"
      },
      "execution_count": 2,
      "outputs": [
        {
          "output_type": "stream",
          "name": "stdout",
          "text": [
            "O resultado da soma de 3 com 2 é: 5 \n",
            "O resultado da subtração de 3 com 2 é: 1 \n",
            "O resultado da multiplicação de 3 por 2 é: 6 \n",
            "O resultado da divisão de 3 por 2 é: 1.5 \n",
            "A parte inteira da divisão de 3 por 2 é: 1 \n",
            "O resto da divisão de 3 por 2 é: 1 \n",
            "O resultado da potenciação de 3 elevado 2 é: 9 \n"
          ]
        }
      ]
    },
    {
      "cell_type": "code",
      "source": [
        "# (==) verifica se dois valores são iguais (retorna True ou False)\n",
        "# Exemplo compare se 3 é igual a 3.0\n",
        "a = 3 # atribuição do valor 3 (tipo int) para a variável a\n",
        "b = 3.0 # atribuição do valor 3.0 (tipo float) para a variável b\n",
        "teste1 = a == b # Fazendo o teste de igualdade de a com b e guradando na variável teste 1\n",
        "print(teste1) # imprimindo o valor da variável teste1\n",
        "teste2 = 'douglas' == 'Douglas' # comparando duas strings com uma pequena diferença entre elas\n",
        "print(teste2) # imprimindo o valor da variável teste2\n",
        "\n",
        "# (!=) verifica se dois valores são diferentes (retorna True ou False)\n",
        "# Exemplo: compare se 3 (variável a) é diferente a 3.0 (variável b)\n",
        "teste3 = a != b\n",
        "print(teste3)\n",
        "\n",
        "# (>) verifica se um valor é maior que o outro (retorna True ou False)\n",
        "# Exemplo: compare se 3 é maior que 2\n",
        "teste4 = 3 > 2\n",
        "print(teste4)\n",
        "\n",
        "# (>=) verifica se um valor é maior ou igual ao outro(Retorna True ou False)\n",
        "#Exemplo: compare se 3 é maior ou igual a 3\n",
        "teste5 = 3 >= 3\n",
        "print(teste5)\n",
        "\n",
        "# (<) verifica se um número é menor que outro (retorna True ou false)\n",
        "# Exemplo: compare se 2 é menor que 2\n",
        "teste6 = 2 < 2\n",
        "print(teste6)\n",
        "\n",
        "# (<=) verifica se um valor é menor ou igual ao outro (retorna True ou False)\n",
        "# Exemplo: compare se 2 é menor ou igual a 2\n",
        "teste7 = 2 <= 2\n",
        "print(teste7)"
      ],
      "metadata": {
        "colab": {
          "base_uri": "https://localhost:8080/"
        },
        "id": "dlC3UZtVGT2S",
        "outputId": "78f53c5b-317a-439e-b26e-aadd8b2260a6"
      },
      "execution_count": 3,
      "outputs": [
        {
          "output_type": "stream",
          "name": "stdout",
          "text": [
            "True\n",
            "False\n",
            "False\n",
            "True\n",
            "True\n",
            "False\n",
            "True\n"
          ]
        }
      ]
    },
    {
      "cell_type": "code",
      "source": [
        "\n",
        "\n",
        "# atribuição do resto da divisão (%=) equivale a x = x % y\n",
        "# exemplo: crie uma variável b que receba o número 7, e depois receba o resto da divisão dela por 2\n",
        "b = 7\n",
        "b %= 2\n",
        "print(f'O resto  da divisão de b por 2 é: {b}')\n",
        "\n",
        "# atribuição de potenciação (**=) equivale a x = x ** y\n",
        "# Exemplo crie uma variável casamento que receba o valor 6 e depois receba o quadrado dela\n",
        "casamento = 6\n",
        "casamento **= 2\n",
        "print(f'O professor douglas casará: {casamento} vezes nesta vida')"
      ],
      "metadata": {
        "colab": {
          "base_uri": "https://localhost:8080/"
        },
        "id": "6-xXyWaHGbNX",
        "outputId": "3bb35d25-d5af-4f4f-c598-8bd1858f7456"
      },
      "execution_count": 4,
      "outputs": [
        {
          "output_type": "stream",
          "name": "stdout",
          "text": [
            "O resto  da divisão de b por 2 é: 1\n",
            "O professor douglas casará: 36 vezes nesta vida\n"
          ]
        }
      ]
    },
    {
      "cell_type": "code",
      "source": [
        "# (and) Retorna verdadeiro somente se todas as condições de uma comparação forem satisfeitas\n",
        "# Exemplo:\n",
        "teste8 = 3 >= 2 and 3 != 2 and 3 < 4\n",
        "print(f'3 >= 2 and 3 != 2 and 3 < 4 é: {teste8}')\n",
        "# (&) Retorna verdadeiro somente se todas as condições de uma comparação forem satisfeitas\n",
        "# Exemplo:\n",
        "teste9 = (3 <= 2) & (3 != 2) & (3 < 4) #bitwise\n",
        "#           F           V         V\n",
        "print(f'(3 <= 2) & (3 != 2) & (3 < 4) é: {teste9}')\n",
        "\n",
        "# (or) Retorna verdadeiro se pelo menos um dos elementos for verdadeiro\n",
        "# Exemplo:\n",
        "teste10 = 3 >= 2 or 3 == 2 or 3 > 4\n",
        "teste15 = (3 >= 2) | (3 == 2) | (3 > 4)\n",
        "print(f'3 >= 2 or 3 == 2 or 3 > 43 >= 2 or 3 == 2 or 3 > 4 é: {teste10}')\n",
        "\n",
        "# (not) Inverte verdadeiro com Falso\n",
        "# Exemplo:\n",
        "teste11 = not(teste10)\n",
        "print(f'not(3 >= 2 or 3 == 2 or 3 > 4) é: {teste11}')\n",
        "teste12 = not(teste9)\n",
        "print(f'not((3 <= 2) & (3 != 2) & (3 < 4)) é: {teste12}')\n",
        "teste13 = ((not(3 <= 2))) & (not(3 == 2)) & (3 < 4) # invertendo o resultado da primeira sentença e da segunda sentença\n",
        "#               V                 V            V\n",
        "print(f'((not(3 <= 2))) & (not(3 == 2)) & (3 < 4) é: {teste13}')\n",
        "teste14 = not((3 >= 2) & (3 != 2) & (3 < 4)) # invertendo o resultado da comparação de todas as sentenças\n",
        "#                 V         V           V\n",
        "print(f'not((3 >= 2) & (3 != 2) & (3 < 4)) é: {teste14}')\n",
        "print(teste15)"
      ],
      "metadata": {
        "colab": {
          "base_uri": "https://localhost:8080/"
        },
        "id": "d_6AVbenGofu",
        "outputId": "bd9e5a02-e188-41ef-dbdc-9753dfb8c690"
      },
      "execution_count": 5,
      "outputs": [
        {
          "output_type": "stream",
          "name": "stdout",
          "text": [
            "3 >= 2 and 3 != 2 and 3 < 4 é: True\n",
            "(3 <= 2) & (3 != 2) & (3 < 4) é: False\n",
            "3 >= 2 or 3 == 2 or 3 > 43 >= 2 or 3 == 2 or 3 > 4 é: True\n",
            "not(3 >= 2 or 3 == 2 or 3 > 4) é: False\n",
            "not((3 <= 2) & (3 != 2) & (3 < 4)) é: True\n",
            "((not(3 <= 2))) & (not(3 == 2)) & (3 < 4) é: True\n",
            "not((3 >= 2) & (3 != 2) & (3 < 4)) é: False\n",
            "True\n"
          ]
        }
      ]
    },
    {
      "cell_type": "code",
      "source": [
        "# (is) compara se um objeto é igual ao outro em relação ao valor e o tipo\n",
        "h = 3\n",
        "p = 3\n",
        "teste16 = p == h\n",
        "print(f'p == h é: {teste16}')\n",
        "teste17 = p is h\n",
        "print(f'p is h é: {teste17}')\n",
        "m = 3\n",
        "n = 3.0\n",
        "teste18 = m == n\n",
        "print(f'm == n é: {teste18}')\n",
        "teste19 = m is n\n",
        "print(f'm is n é: {teste19}')\n",
        "print(type(m))\n",
        "print(type(n))\n",
        "\n",
        "# (is not) compara se um objeto é diferente do outro em relação ao valor e o tipo\n",
        "x = 3\n",
        "y = 4\n",
        "teste20 = x != y\n",
        "print(f'x != y é: {teste20}')\n",
        "teste21 = x is not y\n",
        "print(f'x is not y é: {teste21}')\n",
        "o = 3\n",
        "s = 3.0\n",
        "teste22 = o != s\n",
        "print(f'o != s é: {teste22}')\n",
        "teste23 = o is not s\n",
        "print(f'o is not s é: {teste23}')\n",
        "print(type(o))\n",
        "print(type(s))"
      ],
      "metadata": {
        "colab": {
          "base_uri": "https://localhost:8080/"
        },
        "id": "oT-PjyoQHEhF",
        "outputId": "b3b82f4a-97b0-405e-c5de-0036a325b57e"
      },
      "execution_count": 6,
      "outputs": [
        {
          "output_type": "stream",
          "name": "stdout",
          "text": [
            "p == h é: True\n",
            "p is h é: True\n",
            "m == n é: True\n",
            "m is n é: False\n",
            "<class 'int'>\n",
            "<class 'float'>\n",
            "x != y é: True\n",
            "x is not y é: True\n",
            "o != s é: False\n",
            "o is not s é: True\n",
            "<class 'int'>\n",
            "<class 'float'>\n"
          ]
        }
      ]
    },
    {
      "cell_type": "code",
      "source": [
        "# (in) Retorna verdadeiro se um caracter ou sequencia de caracteres for encontrado dentro de uma string\n",
        "# Exemplo:\n",
        "nome = 'daniela'\n",
        "teste24 = 'dani' in nome\n",
        "print(f'daniela contém dani: {teste24}')\n",
        "# (not in) Retorna verdadeiro se um caracter ou sequencia de caracteres NÃO for encontrado dentro de uma string\n",
        "teste25 = 'Dani' not in nome\n",
        "print(f'daniela não contém Dani: {teste25}')"
      ],
      "metadata": {
        "colab": {
          "base_uri": "https://localhost:8080/"
        },
        "id": "Z71qZF06HhEA",
        "outputId": "11f9b0cb-51bf-4f2a-d9fc-7d3fbf3991e7"
      },
      "execution_count": 8,
      "outputs": [
        {
          "output_type": "stream",
          "name": "stdout",
          "text": [
            "daniela contém dani: True\n",
            "daniela não contém Dani: True\n"
          ]
        }
      ]
    },
    {
      "cell_type": "code",
      "source": [
        "nome = input('Informe seu nome ')\n",
        "print(f'O nome digitado é: {nome}')\n",
        "peso = int(input('Informe seu peso em kg inteiros '))\n",
        "print(f'{nome} tem : {peso}kg')\n",
        "altura = float(input('Informe sua altura em metros '))\n",
        "print(f'{nome} tem {peso} kg e {altura} metros de altura')\n",
        "imc = peso / altura**2\n",
        "print(f'{nome}, seu imc é: {imc:.1f}')"
      ],
      "metadata": {
        "colab": {
          "base_uri": "https://localhost:8080/",
          "height": 382
        },
        "id": "lUoxsFUiHoJQ",
        "outputId": "82a085b0-e362-404a-b733-c3205b042312"
      },
      "execution_count": 12,
      "outputs": [
        {
          "output_type": "error",
          "ename": "KeyboardInterrupt",
          "evalue": "ignored",
          "traceback": [
            "\u001b[0;31m---------------------------------------------------------------------------\u001b[0m",
            "\u001b[0;31mKeyboardInterrupt\u001b[0m                         Traceback (most recent call last)",
            "\u001b[0;32m<ipython-input-12-2c9380fd1cf8>\u001b[0m in \u001b[0;36m<cell line: 1>\u001b[0;34m()\u001b[0m\n\u001b[0;32m----> 1\u001b[0;31m \u001b[0mnome\u001b[0m \u001b[0;34m=\u001b[0m \u001b[0minput\u001b[0m\u001b[0;34m(\u001b[0m\u001b[0;34m'Informe seu nome '\u001b[0m\u001b[0;34m)\u001b[0m\u001b[0;34m\u001b[0m\u001b[0;34m\u001b[0m\u001b[0m\n\u001b[0m\u001b[1;32m      2\u001b[0m \u001b[0mprint\u001b[0m\u001b[0;34m(\u001b[0m\u001b[0;34mf'O nome digitado é: {nome}'\u001b[0m\u001b[0;34m)\u001b[0m\u001b[0;34m\u001b[0m\u001b[0;34m\u001b[0m\u001b[0m\n\u001b[1;32m      3\u001b[0m \u001b[0mpeso\u001b[0m \u001b[0;34m=\u001b[0m \u001b[0mint\u001b[0m\u001b[0;34m(\u001b[0m\u001b[0minput\u001b[0m\u001b[0;34m(\u001b[0m\u001b[0;34m'Informe seu peso em kg inteiros '\u001b[0m\u001b[0;34m)\u001b[0m\u001b[0;34m)\u001b[0m\u001b[0;34m\u001b[0m\u001b[0;34m\u001b[0m\u001b[0m\n\u001b[1;32m      4\u001b[0m \u001b[0mprint\u001b[0m\u001b[0;34m(\u001b[0m\u001b[0;34mf'{nome} tem : {peso}kg'\u001b[0m\u001b[0;34m)\u001b[0m\u001b[0;34m\u001b[0m\u001b[0;34m\u001b[0m\u001b[0m\n\u001b[1;32m      5\u001b[0m \u001b[0maltura\u001b[0m \u001b[0;34m=\u001b[0m \u001b[0mfloat\u001b[0m\u001b[0;34m(\u001b[0m\u001b[0minput\u001b[0m\u001b[0;34m(\u001b[0m\u001b[0;34m'Informe sua altura em metros '\u001b[0m\u001b[0;34m)\u001b[0m\u001b[0;34m)\u001b[0m\u001b[0;34m\u001b[0m\u001b[0;34m\u001b[0m\u001b[0m\n",
            "\u001b[0;32m/usr/local/lib/python3.10/dist-packages/ipykernel/kernelbase.py\u001b[0m in \u001b[0;36mraw_input\u001b[0;34m(self, prompt)\u001b[0m\n\u001b[1;32m    849\u001b[0m                 \u001b[0;34m\"raw_input was called, but this frontend does not support input requests.\"\u001b[0m\u001b[0;34m\u001b[0m\u001b[0;34m\u001b[0m\u001b[0m\n\u001b[1;32m    850\u001b[0m             )\n\u001b[0;32m--> 851\u001b[0;31m         return self._input_request(str(prompt),\n\u001b[0m\u001b[1;32m    852\u001b[0m             \u001b[0mself\u001b[0m\u001b[0;34m.\u001b[0m\u001b[0m_parent_ident\u001b[0m\u001b[0;34m,\u001b[0m\u001b[0;34m\u001b[0m\u001b[0;34m\u001b[0m\u001b[0m\n\u001b[1;32m    853\u001b[0m             \u001b[0mself\u001b[0m\u001b[0;34m.\u001b[0m\u001b[0m_parent_header\u001b[0m\u001b[0;34m,\u001b[0m\u001b[0;34m\u001b[0m\u001b[0;34m\u001b[0m\u001b[0m\n",
            "\u001b[0;32m/usr/local/lib/python3.10/dist-packages/ipykernel/kernelbase.py\u001b[0m in \u001b[0;36m_input_request\u001b[0;34m(self, prompt, ident, parent, password)\u001b[0m\n\u001b[1;32m    893\u001b[0m             \u001b[0;32mexcept\u001b[0m \u001b[0mKeyboardInterrupt\u001b[0m\u001b[0;34m:\u001b[0m\u001b[0;34m\u001b[0m\u001b[0;34m\u001b[0m\u001b[0m\n\u001b[1;32m    894\u001b[0m                 \u001b[0;31m# re-raise KeyboardInterrupt, to truncate traceback\u001b[0m\u001b[0;34m\u001b[0m\u001b[0;34m\u001b[0m\u001b[0m\n\u001b[0;32m--> 895\u001b[0;31m                 \u001b[0;32mraise\u001b[0m \u001b[0mKeyboardInterrupt\u001b[0m\u001b[0;34m(\u001b[0m\u001b[0;34m\"Interrupted by user\"\u001b[0m\u001b[0;34m)\u001b[0m \u001b[0;32mfrom\u001b[0m \u001b[0;32mNone\u001b[0m\u001b[0;34m\u001b[0m\u001b[0;34m\u001b[0m\u001b[0m\n\u001b[0m\u001b[1;32m    896\u001b[0m             \u001b[0;32mexcept\u001b[0m \u001b[0mException\u001b[0m \u001b[0;32mas\u001b[0m \u001b[0me\u001b[0m\u001b[0;34m:\u001b[0m\u001b[0;34m\u001b[0m\u001b[0;34m\u001b[0m\u001b[0m\n\u001b[1;32m    897\u001b[0m                 \u001b[0mself\u001b[0m\u001b[0;34m.\u001b[0m\u001b[0mlog\u001b[0m\u001b[0;34m.\u001b[0m\u001b[0mwarning\u001b[0m\u001b[0;34m(\u001b[0m\u001b[0;34m\"Invalid Message:\"\u001b[0m\u001b[0;34m,\u001b[0m \u001b[0mexc_info\u001b[0m\u001b[0;34m=\u001b[0m\u001b[0;32mTrue\u001b[0m\u001b[0;34m)\u001b[0m\u001b[0;34m\u001b[0m\u001b[0;34m\u001b[0m\u001b[0m\n",
            "\u001b[0;31mKeyboardInterrupt\u001b[0m: Interrupted by user"
          ]
        }
      ]
    },
    {
      "cell_type": "code",
      "source": [
        "# 0    1   2   3   4   5  6  7  8  9 10 11 12 13 (índice)\n",
        "# -14 -13 -12 -11 -10 -9 -8 -7 -6 -5 -4 -3 -2 -1 (índice reverso)\n",
        "# 1º 2º 3º 4º 5º 6º 7º 8º 9º 10º 11º 12º 13º 14º (ordinal)\n",
        "# d  o  u  g  @  g  m  a  i   l   .   c   o   m\n",
        "email = 'doug@gmail.com'\n",
        "# encontrando um caracter pelo índice\n",
        "# Exemplo: qual é o quinto caracter dessa string?\n",
        "print(f'O quinto caracter dessa string é: {email[4]}')\n",
        "# Exemplo: qual é o último caracter dessa string?\n",
        "print(f'O último caracter dessa string é: {email[13]}')\n",
        "# Exemplo: Quais são os caracteres que vem depois do 2º caracter (excluindo o 2º)\n",
        "print(f'A sequência caracteres dessa string após o segundo é: {email[2:]}')\n",
        "# Exemplo: Quais são todos os caracteres dessa string?\n",
        "print(f'A sequência todos os caracteres dessa string é: {email[:]}')\n",
        "# Exemplo: buscar e imprimir todos os caracteres até o caracter de índice 4 (todos os caracteres antes do @ até o @ incluindo o @)\n",
        "print(f'A sequência caracteres dessa string até o índice 4 é: {email[:5]}')\n",
        "# Exemplo como acessar o último caracter da lista sem contar o tamaho dela (sem usar a função len())?\n",
        "print(f'O último caracter dessa string é: {email[-1]}')"
      ],
      "metadata": {
        "colab": {
          "base_uri": "https://localhost:8080/"
        },
        "id": "6vgAtq_tIWHX",
        "outputId": "6b814475-a65b-48c1-a08d-d91a7d389e8e"
      },
      "execution_count": 13,
      "outputs": [
        {
          "output_type": "stream",
          "name": "stdout",
          "text": [
            "O quinto caracter dessa string é: @\n",
            "O último caracter dessa string é: m\n",
            "A sequência caracteres dessa string após o segundo é: ug@gmail.com\n",
            "A sequência todos os caracteres dessa string é: doug@gmail.com\n",
            "A sequência caracteres dessa string até o índice 4 é: doug@\n",
            "O último caracter dessa string é: m\n"
          ]
        }
      ]
    },
    {
      "cell_type": "code",
      "source": [
        "# Sinal de (+) para concatenar strings\n",
        "nome = 'Douglas'\n",
        "sobre = 'Ribeiro'\n",
        "print(nome +\" \"+ sobre)\n",
        "# Converter um número em string\n",
        "cpf = 12345678910\n",
        "cpf = str(cpf)\n",
        "print(type(cpf))\n",
        "# (in) Retorna verdadeiro se um caracter ou sequencia de caracteres for encontrado dentro de uma string\n",
        "# Exemplo:\n",
        "nomen = 'daniela'\n",
        "testen = 'dani' in nomen\n",
        "print(f'daniela contém dani: {testen}')\n",
        "# (not in) Retorna verdadeiro se um caracter ou sequencia de caracteres NÃO for encontrado dentro de uma string\n",
        "testen = 'Dani' not in nomen\n",
        "print(f'daniela não contém Dani: {testen}')\n",
        "# (len)Contar o número de caracteres de uma string\n",
        "qtde = len(nome)\n",
        "print(f'{nome} tem {qtde} caracteres')"
      ],
      "metadata": {
        "colab": {
          "base_uri": "https://localhost:8080/"
        },
        "id": "H6ePI_LrIx7P",
        "outputId": "4c861ea6-925a-4302-a0b0-9ceb701ba05d"
      },
      "execution_count": 14,
      "outputs": [
        {
          "output_type": "stream",
          "name": "stdout",
          "text": [
            "Douglas Ribeiro\n",
            "<class 'str'>\n",
            "daniela contém dani: True\n",
            "daniela não contém Dani: True\n",
            "Douglas tem 7 caracteres\n"
          ]
        }
      ]
    },
    {
      "cell_type": "code",
      "source": [
        "# Método para deixar a primeira letra de uma string maiúscula\n",
        "nomem = 'Guilherme'\n",
        "print(nomem)\n",
        "nomem = nomem.capitalize()\n",
        "print(nomem)\n",
        "nomem = nomem.casefold()\n",
        "print(nomem)"
      ],
      "metadata": {
        "colab": {
          "base_uri": "https://localhost:8080/"
        },
        "id": "ckM3or02LGqz",
        "outputId": "0902615a-925b-48a7-817c-8029a30c112c"
      },
      "execution_count": 17,
      "outputs": [
        {
          "output_type": "stream",
          "name": "stdout",
          "text": [
            "Guilherme\n",
            "Guilherme\n",
            "guilherme\n"
          ]
        }
      ]
    },
    {
      "cell_type": "code",
      "source": [
        "# (count) Contar quantas vezes um caracter aparece em uma string\n",
        "material = 'paralelepípedo'\n",
        "qtde_p = material.count('p')\n",
        "print(f'{material} tem {qtde_p} Ps')"
      ],
      "metadata": {
        "colab": {
          "base_uri": "https://localhost:8080/"
        },
        "id": "_MGMwXA-Lhty",
        "outputId": "f9d59c8b-2379-48a4-cec2-0f5eeb7b0843"
      },
      "execution_count": 18,
      "outputs": [
        {
          "output_type": "stream",
          "name": "stdout",
          "text": [
            "paralelepípedo tem 3 Ps\n"
          ]
        }
      ]
    },
    {
      "cell_type": "code",
      "source": [
        "# (endswith) Verifica se uma string termina com um caracter ou sequencia de caracteres\n",
        "email = 'doug@gmail.com'\n",
        "teste_end = email.endswith('gmail.com')\n",
        "print(teste_end)"
      ],
      "metadata": {
        "colab": {
          "base_uri": "https://localhost:8080/"
        },
        "id": "utA9COjELrfh",
        "outputId": "5c4b32be-b1a7-491d-edba-c10605436044"
      },
      "execution_count": 19,
      "outputs": [
        {
          "output_type": "stream",
          "name": "stdout",
          "text": [
            "True\n"
          ]
        }
      ]
    },
    {
      "cell_type": "code",
      "source": [
        "# (startswith) Verifica se uma string começa com um caracter ou sequencia de caracteres\n",
        "email = 'doug@gmail.com'\n",
        "teste_beg = email.startswith('d')\n",
        "print(teste_beg)"
      ],
      "metadata": {
        "colab": {
          "base_uri": "https://localhost:8080/"
        },
        "id": "uvfMjE5BLvfD",
        "outputId": "61215d53-6d8c-46dc-9f78-b152f890b1ee"
      },
      "execution_count": 20,
      "outputs": [
        {
          "output_type": "stream",
          "name": "stdout",
          "text": [
            "True\n"
          ]
        }
      ]
    },
    {
      "cell_type": "code",
      "source": [
        "# (isnumeric) Verifica se uma string é formada por números\n",
        "rg = '123456789'\n",
        "teste_rg = rg.isnumeric()\n",
        "print(teste_rg)"
      ],
      "metadata": {
        "colab": {
          "base_uri": "https://localhost:8080/"
        },
        "id": "AYdG7oB-L0Jc",
        "outputId": "d1f02849-b4db-4f43-c12f-4f4456abee06"
      },
      "execution_count": 21,
      "outputs": [
        {
          "output_type": "stream",
          "name": "stdout",
          "text": [
            "True\n"
          ]
        }
      ]
    },
    {
      "cell_type": "code",
      "source": [
        "# (isalpha) Verifica se uma string é formada por letras\n",
        "rg2 = 'doug'\n",
        "teste_rg2 = rg2.isalpha()\n",
        "print(teste_rg2)"
      ],
      "metadata": {
        "colab": {
          "base_uri": "https://localhost:8080/"
        },
        "id": "krUO3a_8L7da",
        "outputId": "1d5ccc08-64c9-4587-b3ba-9e5719b1619e"
      },
      "execution_count": 22,
      "outputs": [
        {
          "output_type": "stream",
          "name": "stdout",
          "text": [
            "True\n"
          ]
        }
      ]
    },
    {
      "cell_type": "code",
      "source": [
        "# (isalnum) Verifica se uma string é formada por letras ou números\n",
        "rg3 = 'D'\n",
        "teste_rg3 = rg3.isalnum()\n",
        "print(teste_rg3)"
      ],
      "metadata": {
        "colab": {
          "base_uri": "https://localhost:8080/"
        },
        "id": "AQWplIyWMAgT",
        "outputId": "39c9dd9f-621a-4bf5-a9e9-fbe51cad862c"
      },
      "execution_count": 23,
      "outputs": [
        {
          "output_type": "stream",
          "name": "stdout",
          "text": [
            "True\n"
          ]
        }
      ]
    },
    {
      "cell_type": "code",
      "source": [
        "# (split) Separa uma string por caracteres específicos, se não for específicado o caracter ela assume espaço como separador\n",
        "dados = input('informe os valores separados por espaços ')\n",
        "dados_sep = dados.split()\n",
        "print(dados_sep)"
      ],
      "metadata": {
        "colab": {
          "base_uri": "https://localhost:8080/"
        },
        "id": "H0mRmpZqMEwq",
        "outputId": "8d52ebea-4b2a-4c7d-f4f7-c825c674f100"
      },
      "execution_count": 24,
      "outputs": [
        {
          "output_type": "stream",
          "name": "stdout",
          "text": [
            "informe os valores separados por espaços 25\n",
            "['25']\n"
          ]
        }
      ]
    },
    {
      "cell_type": "code",
      "source": [
        "# (strip) elimina caracteres indesejados de uma string, por padrão remove espaços do início e do final da string\n",
        "autor = ' Douglas '\n",
        "print(len(autor))\n",
        "autor = autor.strip()\n",
        "print(len(autor))"
      ],
      "metadata": {
        "colab": {
          "base_uri": "https://localhost:8080/"
        },
        "id": "SGdfyTXFMNHl",
        "outputId": "a61a45a8-14d5-4772-deab-512f209be2e7"
      },
      "execution_count": 25,
      "outputs": [
        {
          "output_type": "stream",
          "name": "stdout",
          "text": [
            "9\n",
            "7\n"
          ]
        }
      ]
    },
    {
      "cell_type": "code",
      "source": [
        "# (replace) substitui um caracter por outro\n",
        "preco = 'R$ 10.50'\n",
        "print(preco)\n",
        "preco = preco.replace('.',',')\n",
        "print(preco)"
      ],
      "metadata": {
        "colab": {
          "base_uri": "https://localhost:8080/"
        },
        "id": "VVvNLkZ8MRDz",
        "outputId": "23c720d3-ea33-4696-9e25-5ec04c4f5fc8"
      },
      "execution_count": 26,
      "outputs": [
        {
          "output_type": "stream",
          "name": "stdout",
          "text": [
            "R$ 10.50\n",
            "R$ 10,50\n"
          ]
        }
      ]
    },
    {
      "cell_type": "code",
      "source": [
        "# (title) Coloca a primeira letra de cada palavra em maiúscula\n",
        "comp = 'Guilherme Alves de Araujo'\n",
        "print(comp)\n",
        "comp = comp.title()\n",
        "print(comp)"
      ],
      "metadata": {
        "colab": {
          "base_uri": "https://localhost:8080/"
        },
        "id": "CbVUuKqAMdKN",
        "outputId": "6f14d60a-0a94-4a09-9451-c50d258bf7a2"
      },
      "execution_count": 28,
      "outputs": [
        {
          "output_type": "stream",
          "name": "stdout",
          "text": [
            "Guilherme Alves de Araujo\n",
            "Guilherme Alves De Araujo\n"
          ]
        }
      ]
    },
    {
      "cell_type": "code",
      "source": [
        "# (upper) Coloca todas as letras de um texto em maiúsculas\n",
        "prof = 'Guilherme'\n",
        "print(prof)\n",
        "prof = prof.upper()\n",
        "print(prof)\n"
      ],
      "metadata": {
        "colab": {
          "base_uri": "https://localhost:8080/"
        },
        "id": "JcGSIYeWMhBq",
        "outputId": "91d7b38a-9f81-40be-d371-7ad7355b9673"
      },
      "execution_count": 30,
      "outputs": [
        {
          "output_type": "stream",
          "name": "stdout",
          "text": [
            "Guilherme\n",
            "GUILHERME\n"
          ]
        }
      ]
    }
  ]
}